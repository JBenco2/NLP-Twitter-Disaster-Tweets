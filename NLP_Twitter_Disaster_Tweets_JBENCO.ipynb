{
 "cells": [
  {
   "cell_type": "markdown",
   "id": "e8c47bac",
   "metadata": {},
   "source": [
    "MSDS 422 Assignment # 4 for James Benco"
   ]
  },
  {
   "cell_type": "markdown",
   "id": "183e95da",
   "metadata": {},
   "source": [
    "Assignment 4 Part 2"
   ]
  },
  {
   "cell_type": "markdown",
   "id": "d662908b",
   "metadata": {},
   "source": [
    "1: Importing Data amd Required Libraries"
   ]
  },
  {
   "cell_type": "code",
   "execution_count": 164,
   "id": "4aebb176",
   "metadata": {},
   "outputs": [],
   "source": [
    "from IPython.display import HTML\n",
    "from IPython.core.interactiveshell import InteractiveShell\n",
    "InteractiveShell.ast_node_interactivity = \"all\""
   ]
  },
  {
   "cell_type": "code",
   "execution_count": 165,
   "id": "89d975dc",
   "metadata": {},
   "outputs": [
    {
     "name": "stdout",
     "output_type": "stream",
     "text": [
      "Populating the interactive namespace from numpy and matplotlib\n"
     ]
    }
   ],
   "source": [
    "import os\n",
    "import numpy as np\n",
    "import pandas as pd\n",
    "import math, os, re, time, random, string\n",
    "import matplotlib.pyplot as plt\n",
    "import seaborn as sns\n",
    "from sklearn.preprocessing import OneHotEncoder\n",
    "import category_encoders\n",
    "from collections import defaultdict\n",
    "import tensorflow as tf\n",
    "import re\n",
    "from keras.models import Sequential, load_model\n",
    "from keras.layers import LSTM, GRU\n",
    "from keras.layers import Dense, Embedding, Bidirectional, Dropout, Flatten, LSTM\n",
    "from keras.initializers import Constant\n",
    "from nltk.corpus import stopwords\n",
    "from nltk.stem import SnowballStemmer\n",
    "from keras.optimizers import Adam, SGD\n",
    "from keras.preprocessing.text import Tokenizer\n",
    "from keras import Input\n",
    "from tqdm import tqdm\n",
    "from nltk.tokenize import word_tokenize\n",
    "from tensorflow.keras.preprocessing.sequence import pad_sequences\n",
    "from sklearn.pipeline import Pipeline, make_pipeline\n",
    "from sklearn import metrics\n",
    "from sklearn.model_selection import train_test_split\n",
    "from sklearn import dummy\n",
    "from sklearn.metrics import confusion_matrix,classification_report\n",
    "%pylab inline\n",
    "%matplotlib inline"
   ]
  },
  {
   "cell_type": "code",
   "execution_count": 166,
   "id": "b6cbe332",
   "metadata": {},
   "outputs": [
    {
     "name": "stdout",
     "output_type": "stream",
     "text": [
      "Requirement already satisfied: wordcloud in c:\\users\\pain in my ass\\anaconda3\\lib\\site-packages (1.8.1)\n",
      "Requirement already satisfied: pillow in c:\\users\\pain in my ass\\anaconda3\\lib\\site-packages (from wordcloud) (8.2.0)\n",
      "Requirement already satisfied: matplotlib in c:\\users\\pain in my ass\\anaconda3\\lib\\site-packages (from wordcloud) (3.3.4)\n",
      "Requirement already satisfied: numpy>=1.6.1 in c:\\users\\pain in my ass\\anaconda3\\lib\\site-packages (from wordcloud) (1.20.1)\n",
      "Requirement already satisfied: python-dateutil>=2.1 in c:\\users\\pain in my ass\\anaconda3\\lib\\site-packages (from matplotlib->wordcloud) (2.8.1)\n",
      "Requirement already satisfied: kiwisolver>=1.0.1 in c:\\users\\pain in my ass\\anaconda3\\lib\\site-packages (from matplotlib->wordcloud) (1.3.1)\n",
      "Requirement already satisfied: cycler>=0.10 in c:\\users\\pain in my ass\\anaconda3\\lib\\site-packages (from matplotlib->wordcloud) (0.10.0)\n",
      "Requirement already satisfied: pyparsing!=2.0.4,!=2.1.2,!=2.1.6,>=2.0.3 in c:\\users\\pain in my ass\\anaconda3\\lib\\site-packages (from matplotlib->wordcloud) (2.4.7)\n",
      "Requirement already satisfied: six in c:\\users\\pain in my ass\\anaconda3\\lib\\site-packages (from cycler>=0.10->matplotlib->wordcloud) (1.15.0)\n"
     ]
    }
   ],
   "source": [
    "!pip install wordcloud\n",
    "import wordcloud"
   ]
  },
  {
   "cell_type": "markdown",
   "id": "d9504b20",
   "metadata": {},
   "source": [
    "We will first import the data from the Predicting Disaster Dataset"
   ]
  },
  {
   "cell_type": "markdown",
   "id": "8b55af28",
   "metadata": {},
   "source": [
    "1:Importing Data"
   ]
  },
  {
   "cell_type": "code",
   "execution_count": 167,
   "id": "9d862aa1",
   "metadata": {},
   "outputs": [],
   "source": [
    "#Train Data file\n",
    "disasterTrainDat = pd.read_csv(\"train.csv\")\n",
    "TrainDat = disasterTrainDat.copy()"
   ]
  },
  {
   "cell_type": "code",
   "execution_count": 168,
   "id": "c06b9e5c",
   "metadata": {},
   "outputs": [],
   "source": [
    "#Test Data File\n",
    "disasterTestDat = pd.read_csv(\"test.csv\")\n",
    "TestDat = disasterTestDat.copy()"
   ]
  },
  {
   "cell_type": "code",
   "execution_count": 169,
   "id": "3a8de888",
   "metadata": {},
   "outputs": [],
   "source": [
    "#Sample Submission File\n",
    "SubFile = pd.read_csv(\"sample_submission.csv\")"
   ]
  },
  {
   "cell_type": "code",
   "execution_count": 170,
   "id": "1701bf95",
   "metadata": {},
   "outputs": [
    {
     "name": "stdout",
     "output_type": "stream",
     "text": [
      "<class 'pandas.core.frame.DataFrame'>\n",
      "RangeIndex: 7613 entries, 0 to 7612\n",
      "Data columns (total 5 columns):\n",
      " #   Column    Non-Null Count  Dtype \n",
      "---  ------    --------------  ----- \n",
      " 0   id        7613 non-null   int64 \n",
      " 1   keyword   7552 non-null   object\n",
      " 2   location  5080 non-null   object\n",
      " 3   text      7613 non-null   object\n",
      " 4   target    7613 non-null   int64 \n",
      "dtypes: int64(2), object(3)\n",
      "memory usage: 297.5+ KB\n"
     ]
    }
   ],
   "source": [
    "#Checking all the headers and datatypes of the training data\n",
    "TrainDat.info()"
   ]
  },
  {
   "cell_type": "markdown",
   "id": "602ef7dc",
   "metadata": {},
   "source": [
    "The data seems to be keywords, locations and texts along with a number target.  This will require language parsing."
   ]
  },
  {
   "cell_type": "markdown",
   "id": "a7067888",
   "metadata": {},
   "source": [
    "2: EDA"
   ]
  },
  {
   "cell_type": "code",
   "execution_count": 171,
   "id": "5b53b7e4",
   "metadata": {},
   "outputs": [
    {
     "data": {
      "text/html": [
       "<div>\n",
       "<style scoped>\n",
       "    .dataframe tbody tr th:only-of-type {\n",
       "        vertical-align: middle;\n",
       "    }\n",
       "\n",
       "    .dataframe tbody tr th {\n",
       "        vertical-align: top;\n",
       "    }\n",
       "\n",
       "    .dataframe thead th {\n",
       "        text-align: right;\n",
       "    }\n",
       "</style>\n",
       "<table border=\"1\" class=\"dataframe\">\n",
       "  <thead>\n",
       "    <tr style=\"text-align: right;\">\n",
       "      <th></th>\n",
       "      <th>id</th>\n",
       "      <th>keyword</th>\n",
       "      <th>location</th>\n",
       "      <th>text</th>\n",
       "      <th>target</th>\n",
       "    </tr>\n",
       "  </thead>\n",
       "  <tbody>\n",
       "    <tr>\n",
       "      <th>0</th>\n",
       "      <td>1</td>\n",
       "      <td>NaN</td>\n",
       "      <td>NaN</td>\n",
       "      <td>Our Deeds are the Reason of this #earthquake M...</td>\n",
       "      <td>1</td>\n",
       "    </tr>\n",
       "    <tr>\n",
       "      <th>1</th>\n",
       "      <td>4</td>\n",
       "      <td>NaN</td>\n",
       "      <td>NaN</td>\n",
       "      <td>Forest fire near La Ronge Sask. Canada</td>\n",
       "      <td>1</td>\n",
       "    </tr>\n",
       "    <tr>\n",
       "      <th>2</th>\n",
       "      <td>5</td>\n",
       "      <td>NaN</td>\n",
       "      <td>NaN</td>\n",
       "      <td>All residents asked to 'shelter in place' are ...</td>\n",
       "      <td>1</td>\n",
       "    </tr>\n",
       "    <tr>\n",
       "      <th>3</th>\n",
       "      <td>6</td>\n",
       "      <td>NaN</td>\n",
       "      <td>NaN</td>\n",
       "      <td>13,000 people receive #wildfires evacuation or...</td>\n",
       "      <td>1</td>\n",
       "    </tr>\n",
       "    <tr>\n",
       "      <th>4</th>\n",
       "      <td>7</td>\n",
       "      <td>NaN</td>\n",
       "      <td>NaN</td>\n",
       "      <td>Just got sent this photo from Ruby #Alaska as ...</td>\n",
       "      <td>1</td>\n",
       "    </tr>\n",
       "    <tr>\n",
       "      <th>5</th>\n",
       "      <td>8</td>\n",
       "      <td>NaN</td>\n",
       "      <td>NaN</td>\n",
       "      <td>#RockyFire Update =&gt; California Hwy. 20 closed...</td>\n",
       "      <td>1</td>\n",
       "    </tr>\n",
       "    <tr>\n",
       "      <th>6</th>\n",
       "      <td>10</td>\n",
       "      <td>NaN</td>\n",
       "      <td>NaN</td>\n",
       "      <td>#flood #disaster Heavy rain causes flash flood...</td>\n",
       "      <td>1</td>\n",
       "    </tr>\n",
       "    <tr>\n",
       "      <th>7</th>\n",
       "      <td>13</td>\n",
       "      <td>NaN</td>\n",
       "      <td>NaN</td>\n",
       "      <td>I'm on top of the hill and I can see a fire in...</td>\n",
       "      <td>1</td>\n",
       "    </tr>\n",
       "    <tr>\n",
       "      <th>8</th>\n",
       "      <td>14</td>\n",
       "      <td>NaN</td>\n",
       "      <td>NaN</td>\n",
       "      <td>There's an emergency evacuation happening now ...</td>\n",
       "      <td>1</td>\n",
       "    </tr>\n",
       "    <tr>\n",
       "      <th>9</th>\n",
       "      <td>15</td>\n",
       "      <td>NaN</td>\n",
       "      <td>NaN</td>\n",
       "      <td>I'm afraid that the tornado is coming to our a...</td>\n",
       "      <td>1</td>\n",
       "    </tr>\n",
       "  </tbody>\n",
       "</table>\n",
       "</div>"
      ],
      "text/plain": [
       "   id keyword location                                               text  \\\n",
       "0   1     NaN      NaN  Our Deeds are the Reason of this #earthquake M...   \n",
       "1   4     NaN      NaN             Forest fire near La Ronge Sask. Canada   \n",
       "2   5     NaN      NaN  All residents asked to 'shelter in place' are ...   \n",
       "3   6     NaN      NaN  13,000 people receive #wildfires evacuation or...   \n",
       "4   7     NaN      NaN  Just got sent this photo from Ruby #Alaska as ...   \n",
       "5   8     NaN      NaN  #RockyFire Update => California Hwy. 20 closed...   \n",
       "6  10     NaN      NaN  #flood #disaster Heavy rain causes flash flood...   \n",
       "7  13     NaN      NaN  I'm on top of the hill and I can see a fire in...   \n",
       "8  14     NaN      NaN  There's an emergency evacuation happening now ...   \n",
       "9  15     NaN      NaN  I'm afraid that the tornado is coming to our a...   \n",
       "\n",
       "   target  \n",
       "0       1  \n",
       "1       1  \n",
       "2       1  \n",
       "3       1  \n",
       "4       1  \n",
       "5       1  \n",
       "6       1  \n",
       "7       1  \n",
       "8       1  \n",
       "9       1  "
      ]
     },
     "execution_count": 171,
     "metadata": {},
     "output_type": "execute_result"
    }
   ],
   "source": [
    "#We will see what the data is like and some information about it\n",
    "TrainDat.head(10)"
   ]
  },
  {
   "cell_type": "markdown",
   "id": "00208230",
   "metadata": {},
   "source": [
    "The data seems to contain three main features:  Keyword, Location and Text, along with our target variable.  The ID column will be used in our final submission of the data and as such will not be affected by the feature engineering."
   ]
  },
  {
   "cell_type": "code",
   "execution_count": 172,
   "id": "e36b23c5",
   "metadata": {},
   "outputs": [
    {
     "data": {
      "text/plain": [
       "Text(0.5, 1.0, 'Distribution of Target Variable')"
      ]
     },
     "execution_count": 172,
     "metadata": {},
     "output_type": "execute_result"
    },
    {
     "data": {
      "image/png": "[encoded data removed]",
      "text/plain": [
       "<Figure size 720x360 with 1 Axes>"
      ]
     },
     "metadata": {
      "needs_background": "light"
     },
     "output_type": "display_data"
    }
   ],
   "source": [
    "#We shall see our target variable distribution\n",
    "fig, ax = plt.subplots(figsize = (10,5))\n",
    "graph1 = sns.countplot(x='target', data = TrainDat)\n",
    "plt.title('Distribution of Target Variable')\n",
    "plt.show(graph1)"
   ]
  },
  {
   "cell_type": "markdown",
   "id": "f5bd3b52",
   "metadata": {},
   "source": [
    "From this we can see that the majority of the data is not disaster tweets (0), rather than disaster tweets (1)."
   ]
  },
  {
   "cell_type": "code",
   "execution_count": 173,
   "id": "3384bb0e",
   "metadata": {},
   "outputs": [],
   "source": [
    "#We will create a copy of the Training data to work with, so not to affect the actual data\n",
    "train = TrainDat.copy()\n",
    "train2 = train.copy()\n",
    "train2A = train.copy()"
   ]
  },
  {
   "cell_type": "markdown",
   "id": "71847f3a",
   "metadata": {},
   "source": [
    "We will perform some additional analysis on the data, in the form of creating new features such as word count to help see if there is a pattern we can exploit to aid in our model."
   ]
  },
  {
   "cell_type": "code",
   "execution_count": 174,
   "id": "cb461d78",
   "metadata": {},
   "outputs": [
    {
     "data": {
      "text/plain": [
       "<AxesSubplot:xlabel='word count', ylabel='Density'>"
      ]
     },
     "execution_count": 174,
     "metadata": {},
     "output_type": "execute_result"
    },
    {
     "data": {
      "text/plain": [
       "<AxesSubplot:xlabel='word count', ylabel='Density'>"
      ]
     },
     "execution_count": 174,
     "metadata": {},
     "output_type": "execute_result"
    },
    {
     "data": {
      "text/plain": [
       "Text(0.5, 1.0, 'Tweet Word Count')"
      ]
     },
     "execution_count": 174,
     "metadata": {},
     "output_type": "execute_result"
    },
    {
     "data": {
      "text/plain": [
       "<matplotlib.legend.Legend at 0x233d2b380d0>"
      ]
     },
     "execution_count": 174,
     "metadata": {},
     "output_type": "execute_result"
    },
    {
     "data": {
      "image/png": "[encoded data removed]",
      "text/plain": [
       "<Figure size 720x360 with 1 Axes>"
      ]
     },
     "metadata": {
      "needs_background": "light"
     },
     "output_type": "display_data"
    }
   ],
   "source": [
    "#Creating new feature\n",
    "train['word count'] = train['text'].apply(lambda x: len(x.split()))\n",
    "\n",
    "#Defining plot size\n",
    "fig, ax = plt.subplots(figsize = (10,5))\n",
    "\n",
    "#Creating the plots\n",
    "sns.kdeplot(train['word count'][train['target']==0], shade = True, label = 'Non-Disaster Tweet')\n",
    "sns.kdeplot(train['word count'][train['target']==1], shade = True, label = 'Disaster Tweet')\n",
    "\n",
    "#Plotting the graphs\n",
    "plt.title('Tweet Word Count')\n",
    "plt.legend()\n",
    "plt.show()"
   ]
  },
  {
   "cell_type": "markdown",
   "id": "dfb0f485",
   "metadata": {},
   "source": [
    "From this there is considerable overlap from the 5-25 wordcount region.   It does seem that the non-disaster tweets tend to be both shorter and longer than the disaster tweets.  With the average disaster tweet word count around 16 words.  Overall, the pattern is that both non-disaster and disaster tweets tend to be normally distributed."
   ]
  },
  {
   "cell_type": "code",
   "execution_count": 175,
   "id": "2dd83f49",
   "metadata": {},
   "outputs": [
    {
     "data": {
      "text/plain": [
       "<AxesSubplot:xlabel='character count', ylabel='Density'>"
      ]
     },
     "execution_count": 175,
     "metadata": {},
     "output_type": "execute_result"
    },
    {
     "data": {
      "text/plain": [
       "<AxesSubplot:xlabel='character count', ylabel='Density'>"
      ]
     },
     "execution_count": 175,
     "metadata": {},
     "output_type": "execute_result"
    },
    {
     "data": {
      "text/plain": [
       "Text(0.5, 1.0, 'Character Count Distribution')"
      ]
     },
     "execution_count": 175,
     "metadata": {},
     "output_type": "execute_result"
    },
    {
     "data": {
      "text/plain": [
       "<matplotlib.legend.Legend at 0x233d2b68c70>"
      ]
     },
     "execution_count": 175,
     "metadata": {},
     "output_type": "execute_result"
    },
    {
     "data": {
      "image/png": "[encoded data removed]",
      "text/plain": [
       "<Figure size 720x360 with 1 Axes>"
      ]
     },
     "metadata": {
      "needs_background": "light"
     },
     "output_type": "display_data"
    }
   ],
   "source": [
    "#Testing for character length instead\n",
    "train['character count'] = train['text'].apply(lambda x: len(x))\n",
    "\n",
    "fig, ax = plt.subplots(figsize=(10,5))\n",
    "\n",
    "sns.kdeplot(train['character count'][train['target']==0], shade = True, label = 'Non-Disaster Tweet')\n",
    "sns.kdeplot(train['character count'][train['target']==1], shade = True, label = 'Disaster Tweet')\n",
    "\n",
    "plt.title('Character Count Distribution')\n",
    "plt.legend()\n",
    "plt.show()"
   ]
  },
  {
   "cell_type": "markdown",
   "id": "c9293fbb",
   "metadata": {},
   "source": [
    "From this we can see that again there is considerable overlap however, most of the disaster tweets are between 75-150 characters while non-disaster tweets are overrepresented in the lower 0-75 character section.  The vast majority of disaster tweets tend to be between 125 and 150 characters long."
   ]
  },
  {
   "cell_type": "markdown",
   "id": "91d4fc4b",
   "metadata": {},
   "source": [
    "2: Cleaning Data"
   ]
  },
  {
   "cell_type": "markdown",
   "id": "5d056879",
   "metadata": {},
   "source": [
    "This will be cleaning the data for question 2A and will use words of my choice and my weights."
   ]
  },
  {
   "cell_type": "markdown",
   "id": "f5edd2f4",
   "metadata": {},
   "source": [
    "Below will be defined functions to clean the data removing:\n",
    "Noise- removing items of little importance such as URLs and HTML tags, this will also include non-important punctuation,.\n",
    "Stopwords- Words such as 'a', 'an' 'the' which are not important keywords we wish to target\n",
    "Stem- in this phase we will change all forms of a word to their root to have better accuracy for our model"
   ]
  },
  {
   "cell_type": "code",
   "execution_count": 176,
   "id": "2a942d08",
   "metadata": {},
   "outputs": [],
   "source": [
    "#removing URLs\n",
    "def removeURL(sentence):\n",
    "    url = re.compile(r'https?://\\S+|www\\.\\S+')\n",
    "    return url.sub(r'', sentence)"
   ]
  },
  {
   "cell_type": "code",
   "execution_count": 177,
   "id": "c5c45e59",
   "metadata": {},
   "outputs": [],
   "source": [
    "#removing @ tags\n",
    "def removeAt(sentence):\n",
    "    At = re.compile(r'@\\S+')\n",
    "    return At.sub(r'', sentence)"
   ]
  },
  {
   "cell_type": "code",
   "execution_count": 178,
   "id": "e2bcdc38",
   "metadata": {},
   "outputs": [],
   "source": [
    "#removing html\n",
    "def removeHTML(sentence):\n",
    "    html = re.compile(r'<.*?>')\n",
    "    return html.sub(r'', sentence)"
   ]
  },
  {
   "cell_type": "code",
   "execution_count": 179,
   "id": "e17040d6",
   "metadata": {},
   "outputs": [],
   "source": [
    "#removing stopwords\n",
    "def removeStopwords(sentence):\n",
    "    return ' '.join([i for i in sentence.split() if i not in wordcloud.STOPWORDS])"
   ]
  },
  {
   "cell_type": "code",
   "execution_count": 180,
   "id": "99c394e1",
   "metadata": {},
   "outputs": [],
   "source": [
    "#using snowball stemmer to help process words to their roots\n",
    "stemmer = SnowballStemmer('english')\n",
    "\n",
    "def stemWords(sentence):\n",
    "    return ' '.join([stemmer.stem(i) for i in sentence.split()])"
   ]
  },
  {
   "cell_type": "code",
   "execution_count": 181,
   "id": "32ea0c18",
   "metadata": {},
   "outputs": [],
   "source": [
    "#This will be the wrapped function to combine all previosly defined cleaning functions\n",
    "def cleanData(data):\n",
    "    data['text'] = data['text'].apply(lambda x: removeURL(x))\n",
    "    data['text'] = data['text'].apply(lambda x: removeAt(x))\n",
    "    data['text'] = data['text'].apply(lambda x: removeHTML(x))\n",
    "    data['text'] = data['text'].apply(lambda x: removeStopwords(x))\n",
    "    data['text'] = data['text'].apply(lambda x: stemWords(x))\n",
    "    return data"
   ]
  },
  {
   "cell_type": "code",
   "execution_count": 182,
   "id": "d28a10cb",
   "metadata": {},
   "outputs": [
    {
     "data": {
      "text/plain": [
       "array(['our deed reason #earthquak may allah forgiv us',\n",
       "       'forest fire near la rong sask. canada',\n",
       "       'all resid ask shelter place notifi officers. no evacu shelter place order expect',\n",
       "       '13,000 peopl receiv #wildfir evacu order california',\n",
       "       'just got sent photo rubi #alaska smoke #wildfir pour school'],\n",
       "      dtype=object)"
      ]
     },
     "execution_count": 182,
     "metadata": {},
     "output_type": "execute_result"
    }
   ],
   "source": [
    "testData = TestDat.copy()\n",
    "\n",
    "trainData = cleanData(train)\n",
    "testData = cleanData(testData)\n",
    "\n",
    "trainData['text'].head().values"
   ]
  },
  {
   "cell_type": "markdown",
   "id": "4c014b24",
   "metadata": {},
   "source": [
    "3: Tokenizing our cleaned data"
   ]
  },
  {
   "cell_type": "code",
   "execution_count": 183,
   "id": "9be67b24",
   "metadata": {},
   "outputs": [],
   "source": [
    "train2A = trainData.drop(['id','keyword','location','word count','character count'], axis = 1)\n",
    "test2A = testData.drop(['id', 'keyword', 'location'], axis =1)"
   ]
  },
  {
   "cell_type": "code",
   "execution_count": 184,
   "id": "38859819",
   "metadata": {},
   "outputs": [],
   "source": [
    "yTrain = train2A['target'].values\n",
    "xTrain = train2A.drop(['target'], axis=1).values.reshape(len(train2A),)\n",
    "xTest = test2A['text'].values.reshape(len(test2A),)"
   ]
  },
  {
   "cell_type": "code",
   "execution_count": 185,
   "id": "0f23d25a",
   "metadata": {},
   "outputs": [
    {
     "name": "stdout",
     "output_type": "stream",
     "text": [
      "Size of Vocabulary is:  13458\n"
     ]
    }
   ],
   "source": [
    "#Defining our Tokenizer and applying options\n",
    "tokenizer = Tokenizer()\n",
    "tokenizer.fit_on_texts(xTrain)\n",
    "\n",
    "#Vocabulary Size\n",
    "vocabSize = len(tokenizer.word_index)+1\n",
    "print('Size of Vocabulary is: ', vocabSize)\n",
    "\n",
    "\n",
    "#defining our maximum length which will be 150 from our EDA analysis above\n",
    "maxlen= 23\n"
   ]
  },
  {
   "cell_type": "code",
   "execution_count": 186,
   "id": "56f6d91e",
   "metadata": {},
   "outputs": [
    {
     "name": "stdout",
     "output_type": "stream",
     "text": [
      "Text before tokenizing:  our deed reason #earthquak may allah forgiv us\n",
      "Text after  tokenizing:  [582, 5790, 512, 259, 105, 1504, 3183, 48]\n"
     ]
    }
   ],
   "source": [
    "xTrainToken = tokenizer.texts_to_sequences(xTrain)\n",
    "xTestToken = tokenizer.texts_to_sequences(xTest)\n",
    "\n",
    "print('Text before tokenizing: ', xTrain[0])\n",
    "print('Text after  tokenizing: ', xTrainToken[0])"
   ]
  },
  {
   "cell_type": "code",
   "execution_count": 187,
   "id": "5be55b04",
   "metadata": {},
   "outputs": [
    {
     "name": "stdout",
     "output_type": "stream",
     "text": [
      "Tokenized text before padding:  [582, 5790, 512, 259, 105, 1504, 3183, 48]\n",
      "Tokenized text before padding:  [ 582 5790  512  259  105 1504 3183   48    0    0    0    0    0    0\n",
      "    0    0    0    0    0    0    0    0    0]\n"
     ]
    }
   ],
   "source": [
    "xTrainPad = pad_sequences(xTrainToken, maxlen = maxlen, padding='post')\n",
    "xTestPad = pad_sequences(xTestToken, maxlen = maxlen, padding = 'post')\n",
    "\n",
    "print('Tokenized text before padding: ', xTrainToken[0])\n",
    "print('Tokenized text before padding: ', xTrainPad[0])"
   ]
  },
  {
   "cell_type": "markdown",
   "id": "a081019e",
   "metadata": {},
   "source": [
    "4: Building our Model"
   ]
  },
  {
   "cell_type": "code",
   "execution_count": 188,
   "id": "a4f8ff39",
   "metadata": {},
   "outputs": [],
   "source": [
    "#We will now define our hidden units and embedding for our model\n",
    "hiddenUnits = 128\n",
    "embedUnits = 100\n"
   ]
  },
  {
   "cell_type": "code",
   "execution_count": 189,
   "id": "14246cbb",
   "metadata": {},
   "outputs": [
    {
     "name": "stdout",
     "output_type": "stream",
     "text": [
      "Model: \"sequential_12\"\n",
      "_________________________________________________________________\n",
      " Layer (type)                Output Shape              Param #   \n",
      "=================================================================\n",
      " embedding_13 (Embedding)    (None, 23, 100)           1345800   \n",
      "                                                                 \n",
      " bidirectional_12 (Bidirecti  (None, 256)              234496    \n",
      " onal)                                                           \n",
      "                                                                 \n",
      " dropout_24 (Dropout)        (None, 256)               0         \n",
      "                                                                 \n",
      " dense_24 (Dense)            (None, 256)               65792     \n",
      "                                                                 \n",
      " dropout_25 (Dropout)        (None, 256)               0         \n",
      "                                                                 \n",
      " dense_25 (Dense)            (None, 1)                 257       \n",
      "                                                                 \n",
      "=================================================================\n",
      "Total params: 1,646,345\n",
      "Trainable params: 1,646,345\n",
      "Non-trainable params: 0\n",
      "_________________________________________________________________\n"
     ]
    }
   ],
   "source": [
    "#Building our model and model tuning\n",
    "model = Sequential()\n",
    "model.add(Embedding(vocabSize, embedUnits, input_length=maxlen))\n",
    "model.add(Bidirectional(LSTM(hiddenUnits)))\n",
    "model.add(Dropout(0.2))\n",
    "model.add(Dense(256, activation='relu'))\n",
    "model.add(Dropout(0.2))\n",
    "model.add(Dense(1,activation='sigmoid'))\n",
    "\n",
    "model.summary()"
   ]
  },
  {
   "cell_type": "code",
   "execution_count": 190,
   "id": "5550d395",
   "metadata": {},
   "outputs": [],
   "source": [
    "#defining our learning rate and model summary metrics\n",
    "learning_rate = 0.0001\n",
    "model.compile(loss = 'binary_crossentropy', optimizer='adam', metrics=['accuracy'])"
   ]
  },
  {
   "cell_type": "code",
   "execution_count": 191,
   "id": "a3ff83a9",
   "metadata": {},
   "outputs": [
    {
     "name": "stdout",
     "output_type": "stream",
     "text": [
      "Epoch 1/15\n",
      "12/12 [==============================] - 8s 378ms/step - loss: 0.6752 - accuracy: 0.5778 - val_loss: 0.6724 - val_accuracy: 0.5351\n",
      "Epoch 2/15\n",
      "12/12 [==============================] - 3s 287ms/step - loss: 0.5999 - accuracy: 0.6847 - val_loss: 0.5573 - val_accuracy: 0.7124\n",
      "Epoch 3/15\n",
      "12/12 [==============================] - 3s 281ms/step - loss: 0.3866 - accuracy: 0.8475 - val_loss: 0.4761 - val_accuracy: 0.7951\n",
      "Epoch 4/15\n",
      "12/12 [==============================] - 3s 280ms/step - loss: 0.2519 - accuracy: 0.9044 - val_loss: 0.4961 - val_accuracy: 0.7820\n",
      "Epoch 5/15\n",
      "12/12 [==============================] - 3s 295ms/step - loss: 0.1671 - accuracy: 0.9409 - val_loss: 0.6294 - val_accuracy: 0.7571\n",
      "Epoch 6/15\n",
      "12/12 [==============================] - 3s 283ms/step - loss: 0.1197 - accuracy: 0.9585 - val_loss: 0.7421 - val_accuracy: 0.7157\n",
      "Epoch 7/15\n",
      "12/12 [==============================] - 3s 277ms/step - loss: 0.0943 - accuracy: 0.9654 - val_loss: 0.8187 - val_accuracy: 0.7347\n",
      "Epoch 8/15\n",
      "12/12 [==============================] - 3s 278ms/step - loss: 0.0748 - accuracy: 0.9739 - val_loss: 0.8988 - val_accuracy: 0.7525\n",
      "Epoch 9/15\n",
      "12/12 [==============================] - 3s 282ms/step - loss: 0.0634 - accuracy: 0.9775 - val_loss: 0.9512 - val_accuracy: 0.7380\n",
      "Epoch 10/15\n",
      "12/12 [==============================] - 3s 277ms/step - loss: 0.0537 - accuracy: 0.9810 - val_loss: 0.9794 - val_accuracy: 0.7341\n",
      "Epoch 11/15\n",
      "12/12 [==============================] - 3s 271ms/step - loss: 0.0546 - accuracy: 0.9788 - val_loss: 0.9806 - val_accuracy: 0.7380\n",
      "Epoch 12/15\n",
      "12/12 [==============================] - 3s 280ms/step - loss: 0.0505 - accuracy: 0.9810 - val_loss: 0.9906 - val_accuracy: 0.7439\n",
      "Epoch 13/15\n",
      "12/12 [==============================] - 3s 284ms/step - loss: 0.0494 - accuracy: 0.9813 - val_loss: 1.0203 - val_accuracy: 0.7387\n",
      "Epoch 14/15\n",
      "12/12 [==============================] - 3s 286ms/step - loss: 0.0459 - accuracy: 0.9813 - val_loss: 0.9957 - val_accuracy: 0.7374\n",
      "Epoch 15/15\n",
      "12/12 [==============================] - 3s 273ms/step - loss: 0.0422 - accuracy: 0.9818 - val_loss: 1.1040 - val_accuracy: 0.7288\n",
      "Epoch 1/15\n",
      "12/12 [==============================] - 8s 348ms/step - loss: 0.8588 - accuracy: 0.5271 - val_loss: 0.7001 - val_accuracy: 0.5345\n",
      "Epoch 2/15\n",
      "12/12 [==============================] - 3s 277ms/step - loss: 0.6639 - accuracy: 0.5854 - val_loss: 0.6663 - val_accuracy: 0.5568\n",
      "Epoch 3/15\n",
      "12/12 [==============================] - 3s 270ms/step - loss: 0.5378 - accuracy: 0.8007 - val_loss: 0.5531 - val_accuracy: 0.7577\n",
      "Epoch 4/15\n",
      "12/12 [==============================] - 3s 270ms/step - loss: 0.4122 - accuracy: 0.8798 - val_loss: 0.6105 - val_accuracy: 0.7551\n",
      "Epoch 5/15\n",
      "12/12 [==============================] - 3s 272ms/step - loss: 0.2776 - accuracy: 0.9166 - val_loss: 0.8077 - val_accuracy: 0.7511\n",
      "Epoch 6/15\n",
      "12/12 [==============================] - 3s 267ms/step - loss: 0.2202 - accuracy: 0.9402 - val_loss: 1.4096 - val_accuracy: 0.7406\n",
      "Epoch 7/15\n",
      "12/12 [==============================] - 3s 275ms/step - loss: 0.1813 - accuracy: 0.9568 - val_loss: 1.8139 - val_accuracy: 0.7203\n",
      "Epoch 8/15\n",
      "12/12 [==============================] - 3s 274ms/step - loss: 0.1690 - accuracy: 0.9629 - val_loss: 1.8599 - val_accuracy: 0.7341\n",
      "Epoch 9/15\n",
      "12/12 [==============================] - 3s 272ms/step - loss: 0.1638 - accuracy: 0.9690 - val_loss: 1.9890 - val_accuracy: 0.7301\n",
      "Epoch 10/15\n",
      "12/12 [==============================] - 3s 272ms/step - loss: 0.1555 - accuracy: 0.9732 - val_loss: 2.0887 - val_accuracy: 0.7091\n",
      "Epoch 11/15\n",
      "12/12 [==============================] - 3s 277ms/step - loss: 0.1660 - accuracy: 0.9741 - val_loss: 2.1056 - val_accuracy: 0.7163\n",
      "Epoch 12/15\n",
      "12/12 [==============================] - 3s 276ms/step - loss: 0.1647 - accuracy: 0.9762 - val_loss: 2.3535 - val_accuracy: 0.7019\n",
      "Epoch 13/15\n",
      "12/12 [==============================] - 3s 281ms/step - loss: 0.1639 - accuracy: 0.9762 - val_loss: 2.2832 - val_accuracy: 0.7111\n",
      "Epoch 14/15\n",
      "12/12 [==============================] - 3s 279ms/step - loss: 0.1771 - accuracy: 0.9778 - val_loss: 2.2563 - val_accuracy: 0.7124\n",
      "Epoch 15/15\n",
      "12/12 [==============================] - 3s 274ms/step - loss: 0.1827 - accuracy: 0.9755 - val_loss: 2.3773 - val_accuracy: 0.6999\n",
      "Model: \"sequential_13\"\n",
      "_________________________________________________________________\n",
      " Layer (type)                Output Shape              Param #   \n",
      "=================================================================\n",
      " embedding_14 (Embedding)    (None, 23, 100)           1345800   \n",
      "                                                                 \n",
      " bidirectional_13 (Bidirecti  (None, 256)              234496    \n",
      " onal)                                                           \n",
      "                                                                 \n",
      " dropout_26 (Dropout)        (None, 256)               0         \n",
      "                                                                 \n",
      " dense_26 (Dense)            (None, 256)               65792     \n",
      "                                                                 \n",
      " dropout_27 (Dropout)        (None, 256)               0         \n",
      "                                                                 \n",
      " dense_27 (Dense)            (None, 1)                 257       \n",
      "                                                                 \n",
      "=================================================================\n",
      "Total params: 1,646,345\n",
      "Trainable params: 1,646,345\n",
      "Non-trainable params: 0\n",
      "_________________________________________________________________\n"
     ]
    }
   ],
   "source": [
    "#defining batch size and number of iterations\n",
    "batchSize = 512\n",
    "numITR1 = 15\n",
    "numITR2 = 15\n",
    "\n",
    "#creating two more test models to determine best activation\n",
    "model2 = Sequential()\n",
    "model2.add(Embedding(vocabSize, embedUnits, input_length=maxlen))\n",
    "model2.add(Bidirectional(LSTM(hiddenUnits)))\n",
    "model2.add(Dropout(0.2))\n",
    "model2.add(Dense(256, activation='relu'))\n",
    "model2.add(Dropout(0.2))\n",
    "model2.add(Dense(1,activation='relu'))\n",
    "learning_rate = 0.0001\n",
    "model2.compile(loss = 'binary_crossentropy', optimizer='adam', metrics=['accuracy'])\n",
    "\n",
    "history1 = model.fit(xTrainPad, yTrain, batch_size = batchSize, epochs=numITR1, validation_split=0.2)\n",
    "history2 = model2.fit(xTrainPad, yTrain, batch_size = batchSize, epochs=numITR2, validation_split=0.2)\n",
    "model2.summary()"
   ]
  },
  {
   "cell_type": "code",
   "execution_count": 192,
   "id": "703a19e3",
   "metadata": {},
   "outputs": [
    {
     "data": {
      "text/plain": [
       "[<matplotlib.lines.Line2D at 0x23391aff3d0>]"
      ]
     },
     "execution_count": 192,
     "metadata": {},
     "output_type": "execute_result"
    },
    {
     "data": {
      "text/plain": [
       "[<matplotlib.lines.Line2D at 0x23391aff640>]"
      ]
     },
     "execution_count": 192,
     "metadata": {},
     "output_type": "execute_result"
    },
    {
     "data": {
      "text/plain": [
       "Text(0.5, 0, 'Epochs')"
      ]
     },
     "execution_count": 192,
     "metadata": {},
     "output_type": "execute_result"
    },
    {
     "data": {
      "text/plain": [
       "Text(0.5, 1.0, 'Accuracy over Epochs')"
      ]
     },
     "execution_count": 192,
     "metadata": {},
     "output_type": "execute_result"
    },
    {
     "data": {
      "text/plain": [
       "<matplotlib.legend.Legend at 0x23386885760>"
      ]
     },
     "execution_count": 192,
     "metadata": {},
     "output_type": "execute_result"
    },
    {
     "data": {
      "image/png": "[encoded data removed]",
      "text/plain": [
       "<Figure size 1080x720 with 1 Axes>"
      ]
     },
     "metadata": {
      "needs_background": "light"
     },
     "output_type": "display_data"
    }
   ],
   "source": [
    "#Charting our model accuracy\n",
    "fig, ax = plt.subplots(1,sharex = True, sharey=True,figsize=(15,10))\n",
    "plt.plot(history1.history['accuracy'],color='green',label='Model1')\n",
    "plt.plot(history2.history['accuracy'],color='red',label='Model2')\n",
    "plt.xlabel('Epochs')\n",
    "plt.title('Accuracy over Epochs')\n",
    "plt.legend(loc='lower right')\n",
    "plt.show()\n"
   ]
  },
  {
   "cell_type": "markdown",
   "id": "79c4fa56",
   "metadata": {},
   "source": [
    "Part 2B"
   ]
  },
  {
   "cell_type": "markdown",
   "id": "50a9efc3",
   "metadata": {},
   "source": [
    "This section we will predict using RNN's and GloVe embedding."
   ]
  },
  {
   "cell_type": "code",
   "execution_count": 193,
   "id": "d5a8a2d5",
   "metadata": {},
   "outputs": [],
   "source": [
    "#Copying and importing cleaned data for new models and predictions\n",
    "train2B = trainData.drop(['id','keyword','location','word count','character count'], axis = 1)\n",
    "test2B = testData.drop(['id', 'keyword', 'location'], axis =1)"
   ]
  },
  {
   "cell_type": "code",
   "execution_count": 194,
   "id": "3c61bc54",
   "metadata": {},
   "outputs": [],
   "source": [
    "y_Train = train2B['target'].values\n",
    "x_Train = train2B.drop(['target'], axis=1).values.reshape(len(train2B),)\n",
    "x_Test = test2B['text'].values.reshape(len(test2B),)"
   ]
  },
  {
   "cell_type": "markdown",
   "id": "be394f0c",
   "metadata": {},
   "source": [
    "5: Tokenizing our cleaned data with GloVe embeddings"
   ]
  },
  {
   "cell_type": "code",
   "execution_count": 195,
   "id": "5d0da37e",
   "metadata": {},
   "outputs": [
    {
     "name": "stdout",
     "output_type": "stream",
     "text": [
      "There are 13457 unique token words.\n"
     ]
    },
    {
     "data": {
      "text/plain": [
       "23"
      ]
     },
     "execution_count": 195,
     "metadata": {},
     "output_type": "execute_result"
    }
   ],
   "source": [
    "#defining our tokenizer\n",
    "tokenizer2 = Tokenizer()\n",
    "tokenizer2.fit_on_texts(x_Train)\n",
    "sequences = tokenizer2.texts_to_sequences(x_Train)\n",
    "\n",
    "word_index = tokenizer2.word_index\n",
    "print('There are %s unique token words.' %len(word_index))\n",
    "\n",
    "data2B = pad_sequences(sequences, maxlen=23)\n",
    "labels = y_Train\n",
    "\n",
    "MAX_SEQUENCE_LENGTH = data2B.shape[1]\n",
    "MAX_SEQUENCE_LENGTH"
   ]
  },
  {
   "cell_type": "markdown",
   "id": "5383c34b",
   "metadata": {},
   "source": [
    "Importing GloVe embedding"
   ]
  },
  {
   "cell_type": "code",
   "execution_count": 196,
   "id": "c8e1113a",
   "metadata": {},
   "outputs": [],
   "source": [
    "#Importing GloVe embedding\n",
    "embedding_dict={}\n",
    "with open('glove.6B.100d.txt', encoding='utf8') as fp:\n",
    "    for line in fp.readlines():\n",
    "        records = line.split()\n",
    "        word = records[0]\n",
    "        vector_dimensions = np.asarray(records[1:], dtype='float32')\n",
    "        embedding_dict [word] = vector_dimensions\n"
   ]
  },
  {
   "cell_type": "code",
   "execution_count": 197,
   "id": "9bf4ad21",
   "metadata": {},
   "outputs": [
    {
     "name": "stdout",
     "output_type": "stream",
     "text": [
      "Number of words is:  13458\n",
      "Embedding matrix is dimension:  (13458, 100)\n"
     ]
    }
   ],
   "source": [
    "#Loading words into an embedded matrix to be used by our model.\n",
    "numWords = len(tokenizer2.word_index)+1\n",
    "embeddingMatrix = np.zeros((numWords,100))\n",
    "\n",
    "for word, i in tokenizer2.word_index.items():\n",
    "    if i > numWords:\n",
    "        continue\n",
    "    embedVector = embedding_dict.get(word)\n",
    "    if embedVector is not None:\n",
    "        embeddingMatrix[i]=embedVector\n",
    "        \n",
    "print(\"Number of words is: \", numWords)\n",
    "print(\"Embedding matrix is dimension: \", embeddingMatrix.shape)"
   ]
  },
  {
   "cell_type": "markdown",
   "id": "f2e455e2",
   "metadata": {},
   "source": [
    "6: Building our model with GloVe embeddings"
   ]
  },
  {
   "cell_type": "code",
   "execution_count": 198,
   "id": "f850a631",
   "metadata": {},
   "outputs": [],
   "source": [
    "#Building our embedding for our Sequential RNN model\n",
    "embedding = tf.keras.layers.Embedding(numWords,100,embeddings_initializer = Constant(embeddingMatrix),\n",
    "                                     input_length = 28,trainable=True)"
   ]
  },
  {
   "cell_type": "code",
   "execution_count": 199,
   "id": "b2140926",
   "metadata": {},
   "outputs": [
    {
     "name": "stdout",
     "output_type": "stream",
     "text": [
      "Model: \"sequential_14\"\n",
      "_________________________________________________________________\n",
      " Layer (type)                Output Shape              Param #   \n",
      "=================================================================\n",
      " embedding_15 (Embedding)    (None, 28, 100)           1345800   \n",
      "                                                                 \n",
      " bidirectional_14 (Bidirecti  (None, 256)              234496    \n",
      " onal)                                                           \n",
      "                                                                 \n",
      " dropout_28 (Dropout)        (None, 256)               0         \n",
      "                                                                 \n",
      " dense_28 (Dense)            (None, 256)               65792     \n",
      "                                                                 \n",
      " dropout_29 (Dropout)        (None, 256)               0         \n",
      "                                                                 \n",
      " dense_29 (Dense)            (None, 1)                 257       \n",
      "                                                                 \n",
      "=================================================================\n",
      "Total params: 1,646,345\n",
      "Trainable params: 1,646,345\n",
      "Non-trainable params: 0\n",
      "_________________________________________________________________\n"
     ]
    }
   ],
   "source": [
    "#Building our model with embeddings\n",
    "model3 = Sequential()\n",
    "model3.add(embedding)\n",
    "model3.add(Bidirectional(LSTM(hiddenUnits)))\n",
    "model3.add(Dropout(0.2))\n",
    "model3.add(Dense(256,activation='relu'))\n",
    "model3.add(Dropout(0.2))\n",
    "model3.add(Dense(1,activation='sigmoid'))\n",
    "model3.summary()"
   ]
  },
  {
   "cell_type": "code",
   "execution_count": 200,
   "id": "ec6082e8",
   "metadata": {},
   "outputs": [],
   "source": [
    "#Compiling our model\n",
    "learning_rate = 0.0001\n",
    "\n",
    "model3.compile(loss='binary_crossentropy', optimizer='adam',metrics=['accuracy'])"
   ]
  },
  {
   "cell_type": "code",
   "execution_count": 201,
   "id": "e545ad98",
   "metadata": {},
   "outputs": [
    {
     "name": "stdout",
     "output_type": "stream",
     "text": [
      "Epoch 1/10\n",
      "12/12 [==============================] - 3s 276ms/step - loss: 0.1361 - accuracy: 0.9575 - val_loss: 0.7049 - val_accuracy: 0.7131\n",
      "Epoch 2/10\n",
      "12/12 [==============================] - 3s 277ms/step - loss: 0.0902 - accuracy: 0.9749 - val_loss: 1.4287 - val_accuracy: 0.7255\n",
      "Epoch 3/10\n",
      "12/12 [==============================] - 3s 273ms/step - loss: 0.0702 - accuracy: 0.9791 - val_loss: 0.8880 - val_accuracy: 0.7367\n",
      "Epoch 4/10\n",
      "12/12 [==============================] - 3s 274ms/step - loss: 0.0565 - accuracy: 0.9828 - val_loss: 1.1699 - val_accuracy: 0.7301\n",
      "Epoch 5/10\n",
      "12/12 [==============================] - 3s 271ms/step - loss: 0.0506 - accuracy: 0.9824 - val_loss: 1.1892 - val_accuracy: 0.7163\n",
      "Epoch 6/10\n",
      "12/12 [==============================] - 3s 274ms/step - loss: 0.0542 - accuracy: 0.9811 - val_loss: 1.1398 - val_accuracy: 0.7209\n",
      "Epoch 7/10\n",
      "12/12 [==============================] - 3s 281ms/step - loss: 0.0473 - accuracy: 0.9829 - val_loss: 1.1017 - val_accuracy: 0.7354\n",
      "Epoch 8/10\n",
      "12/12 [==============================] - 3s 276ms/step - loss: 0.0489 - accuracy: 0.9805 - val_loss: 1.1047 - val_accuracy: 0.7242\n",
      "Epoch 9/10\n",
      "12/12 [==============================] - 3s 274ms/step - loss: 0.0472 - accuracy: 0.9821 - val_loss: 1.2159 - val_accuracy: 0.7334\n",
      "Epoch 10/10\n",
      "12/12 [==============================] - 3s 278ms/step - loss: 0.0407 - accuracy: 0.9831 - val_loss: 1.1751 - val_accuracy: 0.7321\n"
     ]
    }
   ],
   "source": [
    "#Running our model\n",
    "batchSize = 512\n",
    "numITR3 = 10\n",
    "\n",
    "history3 = model.fit(data2B, y_Train, batch_size=batchSize, epochs=numITR3, validation_split=0.2,verbose=1)"
   ]
  },
  {
   "cell_type": "markdown",
   "id": "dc250ae2",
   "metadata": {},
   "source": [
    "7: Evaluation"
   ]
  },
  {
   "cell_type": "code",
   "execution_count": 202,
   "id": "35be25f5",
   "metadata": {},
   "outputs": [
    {
     "data": {
      "text/plain": [
       "[<matplotlib.lines.Line2D at 0x2338f35c730>]"
      ]
     },
     "execution_count": 202,
     "metadata": {},
     "output_type": "execute_result"
    },
    {
     "data": {
      "text/plain": [
       "[<matplotlib.lines.Line2D at 0x2338f35c970>]"
      ]
     },
     "execution_count": 202,
     "metadata": {},
     "output_type": "execute_result"
    },
    {
     "data": {
      "text/plain": [
       "[<matplotlib.lines.Line2D at 0x2338f35cca0>]"
      ]
     },
     "execution_count": 202,
     "metadata": {},
     "output_type": "execute_result"
    },
    {
     "data": {
      "text/plain": [
       "Text(0.5, 0, 'Epochs')"
      ]
     },
     "execution_count": 202,
     "metadata": {},
     "output_type": "execute_result"
    },
    {
     "data": {
      "text/plain": [
       "Text(0.5, 1.0, 'Accuracy over Epochs')"
      ]
     },
     "execution_count": 202,
     "metadata": {},
     "output_type": "execute_result"
    },
    {
     "data": {
      "text/plain": [
       "<matplotlib.legend.Legend at 0x2338f32ea00>"
      ]
     },
     "execution_count": 202,
     "metadata": {},
     "output_type": "execute_result"
    },
    {
     "data": {
      "image/png": "[encoded data removed]",
      "text/plain": [
       "<Figure size 1080x720 with 1 Axes>"
      ]
     },
     "metadata": {
      "needs_background": "light"
     },
     "output_type": "display_data"
    }
   ],
   "source": [
    "#Charting our model accuracy\n",
    "fig, ax = plt.subplots(1,sharex = True, sharey=True,figsize=(15,10))\n",
    "plt.plot(history1.history['accuracy'],color='green',label='Model1')\n",
    "plt.plot(history2.history['accuracy'],color='red',label='Model2')\n",
    "plt.plot(history3.history['accuracy'],color='blue',label='Model3')\n",
    "plt.xlabel('Epochs')\n",
    "plt.title('Accuracy over Epochs')\n",
    "plt.legend(loc='lower right')\n",
    "plt.show()\n"
   ]
  },
  {
   "cell_type": "markdown",
   "id": "a347b7b8",
   "metadata": {},
   "source": [
    "It seems that the best models were model3 using the GloVe embeddings and out model 1.  Model 3 achieved the highest accuracy score over the shortest epoch duration."
   ]
  },
  {
   "cell_type": "markdown",
   "id": "4e0f8094",
   "metadata": {},
   "source": [
    "8: Submission"
   ]
  },
  {
   "cell_type": "code",
   "execution_count": 203,
   "id": "12d86899",
   "metadata": {},
   "outputs": [
    {
     "name": "stdout",
     "output_type": "stream",
     "text": [
      "102/102 [==============================] - 2s 13ms/step\n"
     ]
    }
   ],
   "source": [
    "predict = model.predict(xTestPad)"
   ]
  },
  {
   "cell_type": "code",
   "execution_count": 204,
   "id": "7f7b02b4",
   "metadata": {},
   "outputs": [],
   "source": [
    "submission = pd.read_csv(\"sample_submission.csv\")\n",
    "submission['target']=predict\n",
    "submission['target']=submission['target'].apply(lambda x: 0 if x<=.5 else 1)"
   ]
  },
  {
   "cell_type": "code",
   "execution_count": 205,
   "id": "f90ed1b0",
   "metadata": {},
   "outputs": [],
   "source": [
    "submission.to_csv('Submission.csv',index=False)"
   ]
  },
  {
   "cell_type": "code",
   "execution_count": null,
   "id": "70028986",
   "metadata": {},
   "outputs": [],
   "source": []
  },
  {
   "cell_type": "code",
   "execution_count": null,
   "id": "5e3f34d1",
   "metadata": {},
   "outputs": [],
   "source": []
  }
 ],
 "metadata": {
  "kernelspec": {
   "display_name": "Python 3 (ipykernel)",
   "language": "python",
   "name": "python3"
  },
  "language_info": {
   "codemirror_mode": {
    "name": "ipython",
    "version": 3
   },
   "file_extension": ".py",
   "mimetype": "text/x-python",
   "name": "python",
   "nbconvert_exporter": "python",
   "pygments_lexer": "ipython3",
   "version": "3.9.12"
  }
 },
 "nbformat": 4,
 "nbformat_minor": 5
}
